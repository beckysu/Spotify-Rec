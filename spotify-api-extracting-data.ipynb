{
 "cells": [
  {
   "cell_type": "code",
   "execution_count": null,
   "metadata": {},
   "outputs": [],
   "source": [
    "import csv\n",
    "import os\n",
    "import re\n",
    "import pandas as pd\n",
    "import json\n",
    "import spotipy\n",
    "from spotipy.oauth2 import SpotifyClientCredentials\n",
    "from dotenv import load_dotenv"
   ]
  },
  {
   "cell_type": "code",
   "execution_count": null,
   "metadata": {},
   "outputs": [],
   "source": [
    "# load credentials from .env file\n",
    "load_dotenv()\n",
    "\n",
    "CLIENT_ID = os.getenv(\"CLIENT_ID\", \"\")\n",
    "CLIENT_SECRET = os.getenv(\"CLIENT_SECRET\", \"\")\n",
    "OUTPUT_FILE_NAME = \"lukewarm_playlist.csv\"\n",
    "\n",
    "# change for your target playlist\n",
    "playlist_link = \"https://open.spotify.com/playlist/3W0kChA5K4tozflcfjFmzv?si=4b50754f3f914f9e\""
   ]
  },
  {
   "cell_type": "code",
   "execution_count": null,
   "metadata": {},
   "outputs": [],
   "source": [
    "# authenticate\n",
    "client_credentials_manager = SpotifyClientCredentials(\n",
    "    client_id=CLIENT_ID, client_secret=CLIENT_SECRET\n",
    ")\n",
    "\n",
    "# create spotify session object\n",
    "sp = spotipy.Spotify(client_credentials_manager=client_credentials_manager)"
   ]
  },
  {
   "cell_type": "code",
   "execution_count": null,
   "metadata": {},
   "outputs": [],
   "source": [
    "# get playlist uri from https link\n",
    "playlist_uri = playlist_link.split(\"/\")[-1].split(\"?\")[0]\n",
    "\n",
    "# get list of tracks in a given playlist (note: max playlist length 100)\n",
    "#tracks = session.playlist_tracks(playlist_uri)[\"items\"]\n",
    "\n",
    "# get list of track URIs\n",
    "#track_uris = [x[\"track\"][\"uri\"] for x in session.playlist_tracks(playlist_uri)[\"items\"]]"
   ]
  },
  {
   "cell_type": "code",
   "execution_count": null,
   "metadata": {},
   "outputs": [],
   "source": [
    "def get_playlist_tracks(playlist_uri):\n",
    "    results =  sp.playlist_tracks(playlist_uri)\n",
    "    tracks = results['items']\n",
    "    while results['next']:\n",
    "        results = sp.next(results)\n",
    "        tracks.extend(results['items'])\n",
    "    return tracks\n"
   ]
  },
  {
   "cell_type": "code",
   "execution_count": null,
   "metadata": {},
   "outputs": [],
   "source": [
    "df = pd.DataFrame(columns=[\"track_uri\",\"track_name\",\"track_pop\",\n",
    "                           \"artist_uri\",\"artist_info\", \"artist_name\", \n",
    "                           \"artist_pop\", \"artist_genres\", \"album_name\"]) \n"
   ]
  },
  {
   "cell_type": "code",
   "execution_count": null,
   "metadata": {},
   "outputs": [],
   "source": [
    "for track in get_playlist_tracks(playlist_uri): \n",
    "    track_uri = track['track']['uri']\n",
    "    track_name = track['track']['name']\n",
    "    artist_uri = track['track']['artists'][0]['uri']\n",
    "    artist_info = sp.artist(artist_uri)\n",
    "    artist_name = track['track']['artists'][0]['name']\n",
    "    artist_pop = artist_info['popularity']\n",
    "    artist_genres = artist_info['genres']\n",
    "    album_name = track['track']['album']['name']\n",
    "    track_pop = track['track']['popularity']\n",
    "    \n",
    "    df = df.append({'track_uri':track_uri,'track_name':track_name, 'track_pop':track_pop,\n",
    "                'artist_uri':artist_uri,'artist_info':artist_info, 'artist_name':artist_name, \n",
    "                'artist_pop':artist_pop, 'artist_genres':artist_genres, 'album_name':album_name},ignore_index=True)\n",
    " "
   ]
  },
  {
   "cell_type": "code",
   "execution_count": null,
   "metadata": {},
   "outputs": [],
   "source": [
    "df.head()"
   ]
  },
  {
   "cell_type": "code",
   "execution_count": null,
   "metadata": {},
   "outputs": [],
   "source": [
    "len(df)"
   ]
  },
  {
   "cell_type": "code",
   "execution_count": null,
   "metadata": {},
   "outputs": [],
   "source": [
    "#df = df.drop([0])\n",
    "#df = df.reset_index()\n",
    "#df.to_csv('playlist_raw.csv')"
   ]
  },
  {
   "cell_type": "code",
   "execution_count": null,
   "metadata": {},
   "outputs": [],
   "source": []
  }
 ],
 "metadata": {
  "kernelspec": {
   "display_name": "Python 3",
   "language": "python",
   "name": "python3"
  },
  "language_info": {
   "codemirror_mode": {
    "name": "ipython",
    "version": 3
   },
   "file_extension": ".py",
   "mimetype": "text/x-python",
   "name": "python",
   "nbconvert_exporter": "python",
   "pygments_lexer": "ipython3",
   "version": "3.7.6"
  }
 },
 "nbformat": 4,
 "nbformat_minor": 4
}
