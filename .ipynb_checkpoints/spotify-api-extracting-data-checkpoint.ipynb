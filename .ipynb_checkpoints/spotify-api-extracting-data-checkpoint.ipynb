{
 "cells": [
  {
   "cell_type": "code",
   "execution_count": 1,
   "metadata": {},
   "outputs": [],
   "source": [
    "import csv\n",
    "import os\n",
    "import re\n",
    "import pandas as pd\n",
    "import json\n",
    "import spotipy\n",
    "from spotipy.oauth2 import SpotifyClientCredentials\n",
    "from dotenv import load_dotenv"
   ]
  },
  {
   "cell_type": "code",
   "execution_count": 2,
   "metadata": {},
   "outputs": [],
   "source": [
    "# load credentials from .env file\n",
    "load_dotenv()\n",
    "\n",
    "CLIENT_ID = os.getenv(\"CLIENT_ID\", \"\")\n",
    "CLIENT_SECRET = os.getenv(\"CLIENT_SECRET\", \"\")\n",
    "OUTPUT_FILE_NAME = \"lukewarm_playlist.csv\"\n",
    "\n",
    "# change for your target playlist\n",
    "playlist_link = \"https://open.spotify.com/playlist/3W0kChA5K4tozflcfjFmzv?si=4b50754f3f914f9e\""
   ]
  },
  {
   "cell_type": "code",
   "execution_count": 3,
   "metadata": {},
   "outputs": [],
   "source": [
    "# authenticate\n",
    "client_credentials_manager = SpotifyClientCredentials(\n",
    "    client_id=CLIENT_ID, client_secret=CLIENT_SECRET\n",
    ")\n",
    "\n",
    "# create spotify session object\n",
    "sp = spotipy.Spotify(client_credentials_manager=client_credentials_manager)"
   ]
  },
  {
   "cell_type": "code",
   "execution_count": 4,
   "metadata": {},
   "outputs": [],
   "source": [
    "# get playlist uri from https link\n",
    "playlist_uri = playlist_link.split(\"/\")[-1].split(\"?\")[0]\n",
    "\n",
    "# get list of tracks in a given playlist (note: max playlist length 100)\n",
    "#tracks = session.playlist_tracks(playlist_uri)[\"items\"]\n",
    "\n",
    "# get list of track URIs\n",
    "#track_uris = [x[\"track\"][\"uri\"] for x in session.playlist_tracks(playlist_uri)[\"items\"]]"
   ]
  },
  {
   "cell_type": "code",
   "execution_count": 5,
   "metadata": {},
   "outputs": [],
   "source": [
    "def get_playlist_tracks(playlist_uri):\n",
    "    results =  sp.playlist_tracks(playlist_uri)\n",
    "    tracks = results['items']\n",
    "    while results['next']:\n",
    "        results = sp.next(results)\n",
    "        tracks.extend(results['items'])\n",
    "    return tracks\n"
   ]
  },
  {
   "cell_type": "code",
   "execution_count": 6,
   "metadata": {},
   "outputs": [],
   "source": [
    "df = pd.DataFrame(columns=[\"track_uri\",\"track_name\",\"track_pop\",\n",
    "                           \"artist_uri\",\"artist_info\", \"artist_name\", \n",
    "                           \"artist_pop\", \"artist_genres\", \"album_name\"]) \n"
   ]
  },
  {
   "cell_type": "code",
   "execution_count": 7,
   "metadata": {},
   "outputs": [],
   "source": [
    "for track in get_playlist_tracks(playlist_uri): \n",
    "    track_uri = track['track']['uri']\n",
    "    track_name = track['track']['name']\n",
    "    artist_uri = track['track']['artists'][0]['uri']\n",
    "    artist_info = sp.artist(artist_uri)\n",
    "    artist_name = track['track']['artists'][0]['name']\n",
    "    artist_pop = artist_info['popularity']\n",
    "    artist_genres = artist_info['genres']\n",
    "    album_name = track['track']['album']['name']\n",
    "    track_pop = track['track']['popularity']\n",
    "    \n",
    "    df = df.append({'track_uri':track_uri,'track_name':track_name, 'track_pop':track_pop,\n",
    "                'artist_uri':artist_uri,'artist_info':artist_info, 'artist_name':artist_name, \n",
    "                'artist_pop':artist_pop, 'artist_genres':artist_genres, 'album_name':album_name},ignore_index=True)\n",
    " "
   ]
  },
  {
   "cell_type": "code",
   "execution_count": 8,
   "metadata": {},
   "outputs": [
    {
     "data": {
      "text/html": [
       "<div>\n",
       "<style scoped>\n",
       "    .dataframe tbody tr th:only-of-type {\n",
       "        vertical-align: middle;\n",
       "    }\n",
       "\n",
       "    .dataframe tbody tr th {\n",
       "        vertical-align: top;\n",
       "    }\n",
       "\n",
       "    .dataframe thead th {\n",
       "        text-align: right;\n",
       "    }\n",
       "</style>\n",
       "<table border=\"1\" class=\"dataframe\">\n",
       "  <thead>\n",
       "    <tr style=\"text-align: right;\">\n",
       "      <th></th>\n",
       "      <th>track_uri</th>\n",
       "      <th>track_name</th>\n",
       "      <th>track_pop</th>\n",
       "      <th>artist_uri</th>\n",
       "      <th>artist_info</th>\n",
       "      <th>artist_name</th>\n",
       "      <th>artist_pop</th>\n",
       "      <th>artist_genres</th>\n",
       "      <th>album_name</th>\n",
       "    </tr>\n",
       "  </thead>\n",
       "  <tbody>\n",
       "    <tr>\n",
       "      <th>0</th>\n",
       "      <td>spotify:track:5awvelCGpDQHwgZem0ira9</td>\n",
       "      <td>Lately</td>\n",
       "      <td>53</td>\n",
       "      <td>spotify:artist:6chWbUfdu6ibyaCXM1w8kQ</td>\n",
       "      <td>{'external_urls': {'spotify': 'https://open.sp...</td>\n",
       "      <td>Forrest.</td>\n",
       "      <td>58</td>\n",
       "      <td>[lo-fi rap]</td>\n",
       "      <td>Lately</td>\n",
       "    </tr>\n",
       "    <tr>\n",
       "      <th>1</th>\n",
       "      <td>spotify:track:44uCMdE6RWnkOFYTtbmUUc</td>\n",
       "      <td>Cherry Cola</td>\n",
       "      <td>56</td>\n",
       "      <td>spotify:artist:66LFdGYtbmJ6G8sArrkfsu</td>\n",
       "      <td>{'external_urls': {'spotify': 'https://open.sp...</td>\n",
       "      <td>Kuwada</td>\n",
       "      <td>47</td>\n",
       "      <td>[]</td>\n",
       "      <td>Cherry Cola</td>\n",
       "    </tr>\n",
       "    <tr>\n",
       "      <th>2</th>\n",
       "      <td>spotify:track:6vl5ghDnotGACfQy6JDYzY</td>\n",
       "      <td>A Song to Sing (feat. Mark Battles &amp; Devvon Te...</td>\n",
       "      <td>0</td>\n",
       "      <td>spotify:artist:5vGXVYudNgm9E7jhXMM0Ro</td>\n",
       "      <td>{'external_urls': {'spotify': 'https://open.sp...</td>\n",
       "      <td>Kid Quill</td>\n",
       "      <td>51</td>\n",
       "      <td>[indiana hip hop, indie pop rap, pop, pop rap]</td>\n",
       "      <td>The Name Above the Title</td>\n",
       "    </tr>\n",
       "    <tr>\n",
       "      <th>3</th>\n",
       "      <td>spotify:track:0rWXN4PLsnNaWDelk2938S</td>\n",
       "      <td>NWA</td>\n",
       "      <td>0</td>\n",
       "      <td>spotify:artist:0gKR8NI5vgeG9kCyt8q06v</td>\n",
       "      <td>{'external_urls': {'spotify': 'https://open.sp...</td>\n",
       "      <td>Ryce</td>\n",
       "      <td>46</td>\n",
       "      <td>[lo-fi rap]</td>\n",
       "      <td>NWA</td>\n",
       "    </tr>\n",
       "    <tr>\n",
       "      <th>4</th>\n",
       "      <td>spotify:track:3ZNOdspGb2cdossfsUqTjw</td>\n",
       "      <td>Just Chill</td>\n",
       "      <td>35</td>\n",
       "      <td>spotify:artist:6chWbUfdu6ibyaCXM1w8kQ</td>\n",
       "      <td>{'external_urls': {'spotify': 'https://open.sp...</td>\n",
       "      <td>Forrest.</td>\n",
       "      <td>58</td>\n",
       "      <td>[lo-fi rap]</td>\n",
       "      <td>Warm</td>\n",
       "    </tr>\n",
       "  </tbody>\n",
       "</table>\n",
       "</div>"
      ],
      "text/plain": [
       "                              track_uri  \\\n",
       "0  spotify:track:5awvelCGpDQHwgZem0ira9   \n",
       "1  spotify:track:44uCMdE6RWnkOFYTtbmUUc   \n",
       "2  spotify:track:6vl5ghDnotGACfQy6JDYzY   \n",
       "3  spotify:track:0rWXN4PLsnNaWDelk2938S   \n",
       "4  spotify:track:3ZNOdspGb2cdossfsUqTjw   \n",
       "\n",
       "                                          track_name track_pop  \\\n",
       "0                                             Lately        53   \n",
       "1                                        Cherry Cola        56   \n",
       "2  A Song to Sing (feat. Mark Battles & Devvon Te...         0   \n",
       "3                                                NWA         0   \n",
       "4                                         Just Chill        35   \n",
       "\n",
       "                              artist_uri  \\\n",
       "0  spotify:artist:6chWbUfdu6ibyaCXM1w8kQ   \n",
       "1  spotify:artist:66LFdGYtbmJ6G8sArrkfsu   \n",
       "2  spotify:artist:5vGXVYudNgm9E7jhXMM0Ro   \n",
       "3  spotify:artist:0gKR8NI5vgeG9kCyt8q06v   \n",
       "4  spotify:artist:6chWbUfdu6ibyaCXM1w8kQ   \n",
       "\n",
       "                                         artist_info artist_name artist_pop  \\\n",
       "0  {'external_urls': {'spotify': 'https://open.sp...    Forrest.         58   \n",
       "1  {'external_urls': {'spotify': 'https://open.sp...      Kuwada         47   \n",
       "2  {'external_urls': {'spotify': 'https://open.sp...   Kid Quill         51   \n",
       "3  {'external_urls': {'spotify': 'https://open.sp...        Ryce         46   \n",
       "4  {'external_urls': {'spotify': 'https://open.sp...    Forrest.         58   \n",
       "\n",
       "                                    artist_genres                album_name  \n",
       "0                                     [lo-fi rap]                    Lately  \n",
       "1                                              []               Cherry Cola  \n",
       "2  [indiana hip hop, indie pop rap, pop, pop rap]  The Name Above the Title  \n",
       "3                                     [lo-fi rap]                       NWA  \n",
       "4                                     [lo-fi rap]                      Warm  "
      ]
     },
     "execution_count": 8,
     "metadata": {},
     "output_type": "execute_result"
    }
   ],
   "source": [
    "df.head()"
   ]
  },
  {
   "cell_type": "code",
   "execution_count": 9,
   "metadata": {},
   "outputs": [
    {
     "data": {
      "text/plain": [
       "591"
      ]
     },
     "execution_count": 9,
     "metadata": {},
     "output_type": "execute_result"
    }
   ],
   "source": [
    "len(df)"
   ]
  },
  {
   "cell_type": "code",
   "execution_count": 11,
   "metadata": {},
   "outputs": [],
   "source": [
    "#df = df.drop([0])\n",
    "#df = df.reset_index()\n",
    "#df.to_csv('playlist_raw.csv')"
   ]
  },
  {
   "cell_type": "code",
   "execution_count": null,
   "metadata": {},
   "outputs": [],
   "source": []
  }
 ],
 "metadata": {
  "kernelspec": {
   "display_name": "Python 3",
   "language": "python",
   "name": "python3"
  },
  "language_info": {
   "codemirror_mode": {
    "name": "ipython",
    "version": 3
   },
   "file_extension": ".py",
   "mimetype": "text/x-python",
   "name": "python",
   "nbconvert_exporter": "python",
   "pygments_lexer": "ipython3",
   "version": "3.7.6"
  }
 },
 "nbformat": 4,
 "nbformat_minor": 4
}
