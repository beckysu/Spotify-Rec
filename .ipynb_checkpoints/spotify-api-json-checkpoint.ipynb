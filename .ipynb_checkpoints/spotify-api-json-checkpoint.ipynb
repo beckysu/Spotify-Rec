{
 "cells": [
  {
   "cell_type": "code",
   "execution_count": 50,
   "metadata": {},
   "outputs": [],
   "source": [
    "import csv\n",
    "import os\n",
    "import re\n",
    "import pandas as pd\n",
    "import json\n",
    "import spotipy\n",
    "from spotipy.oauth2 import SpotifyClientCredentials\n",
    "from dotenv import load_dotenv"
   ]
  },
  {
   "cell_type": "code",
   "execution_count": 10,
   "metadata": {},
   "outputs": [],
   "source": [
    "# load credentials from .env file\n",
    "load_dotenv()\n",
    "\n",
    "CLIENT_ID = os.getenv(\"CLIENT_ID\", \"\")\n",
    "CLIENT_SECRET = os.getenv(\"CLIENT_SECRET\", \"\")\n",
    "OUTPUT_FILE_NAME = \"lukewarm_playlist.csv\"\n",
    "\n",
    "# change for your target playlist\n",
    "playlist_link = \"https://open.spotify.com/playlist/3W0kChA5K4tozflcfjFmzv?si=4b50754f3f914f9e\""
   ]
  },
  {
   "cell_type": "code",
   "execution_count": 24,
   "metadata": {},
   "outputs": [],
   "source": [
    "# authenticate\n",
    "client_credentials_manager = SpotifyClientCredentials(\n",
    "    client_id=CLIENT_ID, client_secret=CLIENT_SECRET\n",
    ")\n",
    "\n",
    "# create spotify session object\n",
    "sp = spotipy.Spotify(client_credentials_manager=client_credentials_manager)"
   ]
  },
  {
   "cell_type": "code",
   "execution_count": 12,
   "metadata": {},
   "outputs": [],
   "source": [
    "# get playlist uri from https link\n",
    "playlist_uri = playlist_link.split(\"/\")[-1].split(\"?\")[0]\n",
    "\n",
    "# get list of tracks in a given playlist (note: max playlist length 100)\n",
    "#tracks = session.playlist_tracks(playlist_uri)[\"items\"]\n",
    "\n",
    "# get list of track URIs\n",
    "#track_uris = [x[\"track\"][\"uri\"] for x in session.playlist_tracks(playlist_uri)[\"items\"]]"
   ]
  },
  {
   "cell_type": "code",
   "execution_count": 44,
   "metadata": {},
   "outputs": [
    {
     "ename": "IndentationError",
     "evalue": "unexpected indent (<ipython-input-44-2ebb0f712f24>, line 24)",
     "output_type": "error",
     "traceback": [
      "\u001b[0;36m  File \u001b[0;32m\"<ipython-input-44-2ebb0f712f24>\"\u001b[0;36m, line \u001b[0;32m24\u001b[0m\n\u001b[0;31m    return df\u001b[0m\n\u001b[0m    ^\u001b[0m\n\u001b[0;31mIndentationError\u001b[0m\u001b[0;31m:\u001b[0m unexpected indent\n"
     ]
    }
   ],
   "source": [
    "def get_playlist_tracks(playlist_uri):\n",
    "    results =  sp.playlist_tracks(playlist_uri)\n",
    "    tracks = results['items']\n",
    "    while results['next']:\n",
    "        results = sp.next(results)\n",
    "        tracks.extend(results['items'])\n",
    "    return tracks\n"
   ]
  },
  {
   "cell_type": "code",
   "execution_count": 51,
   "metadata": {},
   "outputs": [],
   "source": [
    "lukewarm_json = get_playlist_tracks(playlist_uri)\n",
    "jsonString = json.dumps(lukewarm_json)\n",
    "jsonFile = open(\"lukewarm.json\", \"w\")\n",
    "jsonFile.write(jsonString)\n",
    "jsonFile.close()"
   ]
  },
  {
   "cell_type": "code",
   "execution_count": null,
   "metadata": {},
   "outputs": [],
   "source": []
  }
 ],
 "metadata": {
  "kernelspec": {
   "display_name": "Python 3",
   "language": "python",
   "name": "python3"
  },
  "language_info": {
   "codemirror_mode": {
    "name": "ipython",
    "version": 3
   },
   "file_extension": ".py",
   "mimetype": "text/x-python",
   "name": "python",
   "nbconvert_exporter": "python",
   "pygments_lexer": "ipython3",
   "version": "3.7.6"
  }
 },
 "nbformat": 4,
 "nbformat_minor": 4
}
